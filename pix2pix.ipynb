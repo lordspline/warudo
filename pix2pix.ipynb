{
 "cells": [
  {
   "cell_type": "code",
   "execution_count": 39,
   "id": "c74cbb6d-d7ff-49b2-a627-eb930c3be6bc",
   "metadata": {},
   "outputs": [],
   "source": [
    "import os\n",
    "import pathlib\n",
    "import datetime\n",
    "import time\n",
    "\n",
    "import tensorflow as tf\n",
    "\n",
    "import matplotlib.pyplot as plt\n",
    "from IPython import display"
   ]
  },
  {
   "cell_type": "code",
   "execution_count": 40,
   "id": "b953ec47-670a-4383-9243-bb531f958852",
   "metadata": {},
   "outputs": [],
   "source": [
    "dataset_name = \"facades\"\n",
    "dataset_url = \"http://efrosgans.eecs.berkeley.edu/pix2pix/datasets/\" + dataset_name + \".tar.gz\"\n",
    "path_to_tar = tf.keras.utils.get_file(\n",
    "    fname=dataset_name + \".tar.gz\",\n",
    "    origin=dataset_url,\n",
    "    extract=True\n",
    ")\n",
    "path_to_tar = pathlib.Path(path_to_tar)\n",
    "dataset_path = path_to_tar.parent/dataset_name"
   ]
  },
  {
   "cell_type": "code",
   "execution_count": 41,
   "id": "dd2f48a5-f759-4556-9cfa-95ad721ad014",
   "metadata": {},
   "outputs": [],
   "source": [
    "BUFFERSIZE = 400\n",
    "BATCHSIZE = 1\n",
    "WIDTH = 256\n",
    "HEIGHT = 256"
   ]
  },
  {
   "cell_type": "code",
   "execution_count": 42,
   "id": "311ada39-8e3f-4c8c-8be6-c8083d74c6aa",
   "metadata": {},
   "outputs": [],
   "source": [
    "def load(image_file):\n",
    "    image = tf.io.read_file(image_file)\n",
    "    image = tf.io.decode_jpeg(image)\n",
    "    w = tf.shape(image)[1] // 2    \n",
    "    input_image = image[:, w:, :]\n",
    "    input_image = tf.cast(input_image, tf.float32)\n",
    "    real_image = image[:, :w, :]\n",
    "    real_image = tf.cast(real_image, tf.float32)\n",
    "    return input_image, real_image\n",
    "\n",
    "def resize(input_image, real_image, height, width):\n",
    "    input_image = tf.image.resize(input_image, [height, width], method=tf.image.ResizeMethod.NEAREST_NEIGHBOR)\n",
    "    real_image = tf.image.resize(real_image, [height, width], method=tf.image.ResizeMethod.NEAREST_NEIGHBOR)\n",
    "    return input_image, real_image\n",
    "\n",
    "def random_crop(input_image, real_image):\n",
    "    stacked_image = tf.stack([input_image, real_image], axis=0)\n",
    "    cropped_image = tf.image.random_crop(stacked_image, size=[2, HEIGHT, WIDTH, 3])\n",
    "    return cropped_image[0], cropped_image[1]\n",
    "\n",
    "def normalize(input_image, real_image):\n",
    "    input_image = (input_image / 127.5) - 1\n",
    "    real_image = (real_image / 127.5) - 1\n",
    "    return input_image, real_image\n",
    "\n",
    "@tf.function()\n",
    "def random_jitter(input_image, real_image):\n",
    "    input_image, real_image = resize(input_image, real_image, 286, 286)\n",
    "    input_image, real_image = random_crop(input_image, real_image)\n",
    "    if tf.random.uniform(()) > 0.5:\n",
    "        input_image = tf.image.flip_left_right(input_image)\n",
    "        real_image = tf.image.flip_left_right(real_image)\n",
    "    return input_image, real_image"
   ]
  },
  {
   "cell_type": "code",
   "execution_count": 43,
   "id": "06e6a9ff-35f2-4f77-9ee9-5633d2987141",
   "metadata": {},
   "outputs": [],
   "source": [
    "def load_image_train(image_file):\n",
    "    input_image, real_image = load(image_file)\n",
    "    input_image, real_image = random_jitter(input_image, real_image)\n",
    "    input_image, real_image = normalize(input_image, real_image)\n",
    "    return input_image, real_image\n",
    "\n",
    "def load_image_test(image_file):\n",
    "    input_image, real_image = load(image_file)\n",
    "    input_image, real_image = resize(input_image, real_image, HEIGHT, WIDTH)\n",
    "    input_image, real_image = normalize(input_image, real_image)\n",
    "    return input_image, real_image\n",
    "\n",
    "train_dataset = tf.data.Dataset.list_files(str(dataset_path / \"train/*.jpg\"))\n",
    "train_dataset = train_dataset.map(load_image_train)\n",
    "train_dataset = train_dataset.shuffle(BUFFERSIZE)\n",
    "train_dataset = train_dataset.batch(BATCHSIZE)\n",
    "\n",
    "test_dataset = tf.data.Dataset.list_files(str(dataset_path / \"test/*.jpg\"))\n",
    "test_dataset = test_dataset.map(load_image_test)\n",
    "test_dataset = test_dataset.batch(BATCHSIZE)"
   ]
  },
  {
   "cell_type": "code",
   "execution_count": null,
   "id": "1d8a56c3-37a4-49dd-98a8-3350b6c89516",
   "metadata": {},
   "outputs": [],
   "source": []
  }
 ],
 "metadata": {
  "kernelspec": {
   "display_name": "Python 3 (ipykernel)",
   "language": "python",
   "name": "python3"
  },
  "language_info": {
   "codemirror_mode": {
    "name": "ipython",
    "version": 3
   },
   "file_extension": ".py",
   "mimetype": "text/x-python",
   "name": "python",
   "nbconvert_exporter": "python",
   "pygments_lexer": "ipython3",
   "version": "3.9.10"
  }
 },
 "nbformat": 4,
 "nbformat_minor": 5
}
