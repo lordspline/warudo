{
 "cells": [
  {
   "cell_type": "code",
   "execution_count": 11,
   "id": "1b35daea-e8b4-47e3-a1e9-e39e99641913",
   "metadata": {},
   "outputs": [],
   "source": [
    "import os\n",
    "from random import choice\n",
    "from time import sleep\n",
    "import vizdoom as vzd"
   ]
  },
  {
   "cell_type": "code",
   "execution_count": 12,
   "id": "25ff2b3c-d4a1-4449-bc1d-1ea0e56c9180",
   "metadata": {},
   "outputs": [],
   "source": [
    "game = vzd.DoomGame()\n",
    "game.set_doom_scenario_path(os.path.join(vzd.scenarios_path, 'basic.wad'))\n",
    "game.set_doom_map('map01')\n",
    "game.set_screen_resolution(vzd.ScreenResolution.RES_640X480)\n",
    "game.set_screen_format(vzd.ScreenFormat.RGB24)\n",
    "game.set_render_hud(False)\n",
    "game.set_render_crosshair(False)\n",
    "game.set_render_weapon(True)\n",
    "game.set_render_decals(False)\n",
    "game.set_render_particles(False)\n",
    "game.set_render_effects_sprites(False)\n",
    "game.set_render_messages(False)\n",
    "game.set_render_corpses(False)\n",
    "game.set_render_screen_flashes(False)\n",
    "game.set_available_buttons([vzd.Button.MOVE_LEFT, vzd.Button.MOVE_RIGHT, vzd.Button.ATTACK])\n",
    "game.set_available_game_variables([vzd.GameVariable.FRAGCOUNT])\n",
    "game.set_episode_timeout(2000)\n",
    "game.set_episode_start_time(10)\n",
    "game.set_window_visible(True)\n",
    "game.set_mode(vzd.Mode.PLAYER)\n",
    "game.init()\n",
    "\n",
    "actions = [[True, False, False], [False, True, False], [False, False, True]]\n",
    "sleeptime = 1.0 / vzd.DEFAULT_TICRATE"
   ]
  },
  {
   "cell_type": "code",
   "execution_count": null,
   "id": "fbaf6967-c047-4c65-a09f-3d966de45c7e",
   "metadata": {},
   "outputs": [],
   "source": [
    "game.new_episode()\n",
    "while not game.is_episode_finished():\n",
    "    state = game.get_state()\n",
    "    print(state.game_variables)\n",
    "    print(state.screen_buffer.shape)\n",
    "    reward = game.make_action(choice(actions))\n",
    "game.close()"
   ]
  },
  {
   "cell_type": "code",
   "execution_count": null,
   "id": "6c459594-12fb-417e-b529-a02e7a35da8b",
   "metadata": {},
   "outputs": [],
   "source": []
  }
 ],
 "metadata": {
  "kernelspec": {
   "display_name": "Python 3 (ipykernel)",
   "language": "python",
   "name": "python3"
  },
  "language_info": {
   "codemirror_mode": {
    "name": "ipython",
    "version": 3
   },
   "file_extension": ".py",
   "mimetype": "text/x-python",
   "name": "python",
   "nbconvert_exporter": "python",
   "pygments_lexer": "ipython3",
   "version": "3.10.2"
  }
 },
 "nbformat": 4,
 "nbformat_minor": 5
}
